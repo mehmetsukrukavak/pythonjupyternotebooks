{
 "cells": [
  {
   "cell_type": "code",
   "execution_count": 1,
   "id": "635f7bf1",
   "metadata": {},
   "outputs": [
    {
     "data": {
      "text/plain": [
       "5.0"
      ]
     },
     "execution_count": 1,
     "metadata": {},
     "output_type": "execute_result"
    }
   ],
   "source": [
    "def divideNumber(number):\n",
    "    return number / 2\n",
    "\n",
    "divideNumber(10)"
   ]
  },
  {
   "cell_type": "code",
   "execution_count": 2,
   "id": "a2569760",
   "metadata": {},
   "outputs": [],
   "source": [
    "myList = [3,5,7,10,20,30]"
   ]
  },
  {
   "cell_type": "code",
   "execution_count": 3,
   "id": "735fd7f2",
   "metadata": {},
   "outputs": [],
   "source": [
    "myResultList = [divideNumber(item) for item in myList]"
   ]
  },
  {
   "cell_type": "code",
   "execution_count": 4,
   "id": "944aa2b2",
   "metadata": {},
   "outputs": [
    {
     "data": {
      "text/plain": [
       "[1.5, 2.5, 3.5, 5.0, 10.0, 15.0]"
      ]
     },
     "execution_count": 4,
     "metadata": {},
     "output_type": "execute_result"
    }
   ],
   "source": [
    "myResultList"
   ]
  },
  {
   "cell_type": "code",
   "execution_count": 5,
   "id": "92b09dc2",
   "metadata": {},
   "outputs": [
    {
     "data": {
      "text/plain": [
       "[1.5, 2.5, 3.5, 5.0, 10.0, 15.0]"
      ]
     },
     "execution_count": 5,
     "metadata": {},
     "output_type": "execute_result"
    }
   ],
   "source": [
    "list(map(divideNumber,myList))"
   ]
  },
  {
   "cell_type": "code",
   "execution_count": 10,
   "id": "be9161a0",
   "metadata": {},
   "outputs": [],
   "source": [
    "def odds(number):\n",
    "    return number % 2 != 0"
   ]
  },
  {
   "cell_type": "code",
   "execution_count": 11,
   "id": "5e3aa981",
   "metadata": {},
   "outputs": [
    {
     "data": {
      "text/plain": [
       "[3, 5, 7]"
      ]
     },
     "execution_count": 11,
     "metadata": {},
     "output_type": "execute_result"
    }
   ],
   "source": [
    "list(filter(odds,myList))"
   ]
  },
  {
   "cell_type": "code",
   "execution_count": 8,
   "id": "57904548",
   "metadata": {},
   "outputs": [],
   "source": [
    "multiplyLambda = lambda num: num*3"
   ]
  },
  {
   "cell_type": "code",
   "execution_count": 9,
   "id": "fed1fafe",
   "metadata": {},
   "outputs": [
    {
     "data": {
      "text/plain": [
       "60"
      ]
     },
     "execution_count": 9,
     "metadata": {},
     "output_type": "execute_result"
    }
   ],
   "source": [
    "multiplyLambda(20)"
   ]
  },
  {
   "cell_type": "code",
   "execution_count": 12,
   "id": "cfa9963c",
   "metadata": {},
   "outputs": [],
   "source": [
    "evenLambda = lambda num: num % 2 == 0"
   ]
  },
  {
   "cell_type": "code",
   "execution_count": 13,
   "id": "766d4002",
   "metadata": {},
   "outputs": [
    {
     "data": {
      "text/plain": [
       "[10, 20, 30]"
      ]
     },
     "execution_count": 13,
     "metadata": {},
     "output_type": "execute_result"
    }
   ],
   "source": [
    "list(filter(evenLambda, myList))"
   ]
  },
  {
   "cell_type": "code",
   "execution_count": 14,
   "id": "ae7f97f1",
   "metadata": {},
   "outputs": [],
   "source": [
    "y=5\n",
    "def changeY():\n",
    "    global y\n",
    "    y= 15\n",
    "    return y"
   ]
  },
  {
   "cell_type": "code",
   "execution_count": 15,
   "id": "99078e5f",
   "metadata": {},
   "outputs": [
    {
     "data": {
      "text/plain": [
       "15"
      ]
     },
     "execution_count": 15,
     "metadata": {},
     "output_type": "execute_result"
    }
   ],
   "source": [
    "changeY()"
   ]
  },
  {
   "cell_type": "code",
   "execution_count": 16,
   "id": "e7a218b5",
   "metadata": {},
   "outputs": [
    {
     "data": {
      "text/plain": [
       "15"
      ]
     },
     "execution_count": 16,
     "metadata": {},
     "output_type": "execute_result"
    }
   ],
   "source": [
    "y\n"
   ]
  },
  {
   "cell_type": "code",
   "execution_count": null,
   "id": "e9e05fdf",
   "metadata": {},
   "outputs": [],
   "source": []
  }
 ],
 "metadata": {
  "kernelspec": {
   "display_name": "Python 3 (ipykernel)",
   "language": "python",
   "name": "python3"
  },
  "language_info": {
   "codemirror_mode": {
    "name": "ipython",
    "version": 3
   },
   "file_extension": ".py",
   "mimetype": "text/x-python",
   "name": "python",
   "nbconvert_exporter": "python",
   "pygments_lexer": "ipython3",
   "version": "3.11.5"
  }
 },
 "nbformat": 4,
 "nbformat_minor": 5
}
