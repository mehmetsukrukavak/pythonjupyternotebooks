{
 "cells": [
  {
   "cell_type": "code",
   "execution_count": 13,
   "id": "3045a3fd",
   "metadata": {},
   "outputs": [
    {
     "data": {
      "text/plain": [
       "8"
      ]
     },
     "execution_count": 13,
     "metadata": {},
     "output_type": "execute_result"
    }
   ],
   "source": [
    "3+5"
   ]
  },
  {
   "cell_type": "code",
   "execution_count": 14,
   "id": "f416440b",
   "metadata": {},
   "outputs": [
    {
     "data": {
      "text/plain": [
       "10625"
      ]
     },
     "execution_count": 14,
     "metadata": {},
     "output_type": "execute_result"
    }
   ],
   "source": [
    "125*85"
   ]
  },
  {
   "cell_type": "code",
   "execution_count": 15,
   "id": "c5088b35",
   "metadata": {},
   "outputs": [],
   "source": [
    "a=5"
   ]
  },
  {
   "cell_type": "code",
   "execution_count": 16,
   "id": "48872071",
   "metadata": {},
   "outputs": [],
   "source": [
    "b=3"
   ]
  },
  {
   "cell_type": "code",
   "execution_count": 17,
   "id": "dccf25a9",
   "metadata": {},
   "outputs": [
    {
     "data": {
      "text/plain": [
       "15"
      ]
     },
     "execution_count": 17,
     "metadata": {},
     "output_type": "execute_result"
    }
   ],
   "source": [
    "a*b"
   ]
  },
  {
   "cell_type": "code",
   "execution_count": 18,
   "id": "7b7ba581",
   "metadata": {},
   "outputs": [
    {
     "data": {
      "text/plain": [
       "8"
      ]
     },
     "execution_count": 18,
     "metadata": {},
     "output_type": "execute_result"
    }
   ],
   "source": [
    "a+b"
   ]
  },
  {
   "cell_type": "code",
   "execution_count": 19,
   "id": "6a6733d4",
   "metadata": {},
   "outputs": [
    {
     "data": {
      "text/plain": [
       "1.6666666666666667"
      ]
     },
     "execution_count": 19,
     "metadata": {},
     "output_type": "execute_result"
    }
   ],
   "source": [
    "a/b"
   ]
  },
  {
   "cell_type": "code",
   "execution_count": 20,
   "id": "d92c8218",
   "metadata": {},
   "outputs": [
    {
     "data": {
      "text/plain": [
       "2"
      ]
     },
     "execution_count": 20,
     "metadata": {},
     "output_type": "execute_result"
    }
   ],
   "source": [
    "a-b"
   ]
  },
  {
   "cell_type": "code",
   "execution_count": 21,
   "id": "9766b5f4",
   "metadata": {},
   "outputs": [],
   "source": [
    "c = \"Mehmet\""
   ]
  },
  {
   "cell_type": "code",
   "execution_count": 22,
   "id": "071bdb13",
   "metadata": {},
   "outputs": [],
   "source": [
    "d = 1.9"
   ]
  },
  {
   "cell_type": "code",
   "execution_count": 23,
   "id": "60a14603",
   "metadata": {},
   "outputs": [
    {
     "data": {
      "text/plain": [
       "3.5666666666666664"
      ]
     },
     "execution_count": 23,
     "metadata": {},
     "output_type": "execute_result"
    }
   ],
   "source": [
    "a/b + d"
   ]
  },
  {
   "cell_type": "markdown",
   "id": "fe9d922b",
   "metadata": {},
   "source": [
    "a + b + c"
   ]
  },
  {
   "cell_type": "code",
   "execution_count": 25,
   "id": "a5c29054",
   "metadata": {},
   "outputs": [
    {
     "data": {
      "text/plain": [
       "225.0"
      ]
     },
     "execution_count": 25,
     "metadata": {},
     "output_type": "execute_result"
    }
   ],
   "source": [
    "900 / 4"
   ]
  },
  {
   "cell_type": "code",
   "execution_count": 26,
   "id": "39f484c9",
   "metadata": {},
   "outputs": [
    {
     "data": {
      "text/plain": [
       "128.57142857142858"
      ]
     },
     "execution_count": 26,
     "metadata": {},
     "output_type": "execute_result"
    }
   ],
   "source": [
    "900 / 7"
   ]
  },
  {
   "cell_type": "code",
   "execution_count": 27,
   "id": "d1909fca",
   "metadata": {},
   "outputs": [],
   "source": [
    "age = 50"
   ]
  },
  {
   "cell_type": "code",
   "execution_count": 28,
   "id": "c3b65ff5",
   "metadata": {},
   "outputs": [
    {
     "data": {
      "text/plain": [
       "50"
      ]
     },
     "execution_count": 28,
     "metadata": {},
     "output_type": "execute_result"
    }
   ],
   "source": [
    "age"
   ]
  },
  {
   "cell_type": "code",
   "execution_count": 29,
   "id": "b7da72b9",
   "metadata": {},
   "outputs": [
    {
     "data": {
      "text/plain": [
       "25.0"
      ]
     },
     "execution_count": 29,
     "metadata": {},
     "output_type": "execute_result"
    }
   ],
   "source": [
    "age/2"
   ]
  },
  {
   "cell_type": "code",
   "execution_count": 30,
   "id": "3bbc2f61",
   "metadata": {},
   "outputs": [
    {
     "data": {
      "text/plain": [
       "150"
      ]
     },
     "execution_count": 30,
     "metadata": {},
     "output_type": "execute_result"
    }
   ],
   "source": [
    "age * 3"
   ]
  },
  {
   "cell_type": "code",
   "execution_count": 31,
   "id": "e8911378",
   "metadata": {},
   "outputs": [
    {
     "data": {
      "text/plain": [
       "1.9"
      ]
     },
     "execution_count": 31,
     "metadata": {},
     "output_type": "execute_result"
    }
   ],
   "source": [
    "d"
   ]
  },
  {
   "cell_type": "code",
   "execution_count": 32,
   "id": "99c5200d",
   "metadata": {},
   "outputs": [
    {
     "data": {
      "text/plain": [
       "'Mehmet'"
      ]
     },
     "execution_count": 32,
     "metadata": {},
     "output_type": "execute_result"
    }
   ],
   "source": [
    "c"
   ]
  },
  {
   "cell_type": "code",
   "execution_count": 33,
   "id": "22f6d846",
   "metadata": {},
   "outputs": [
    {
     "data": {
      "text/plain": [
       "'Mehmet:'"
      ]
     },
     "execution_count": 33,
     "metadata": {},
     "output_type": "execute_result"
    }
   ],
   "source": [
    "c + \":\""
   ]
  },
  {
   "cell_type": "code",
   "execution_count": 34,
   "id": "9376d855",
   "metadata": {},
   "outputs": [
    {
     "data": {
      "text/plain": [
       "str"
      ]
     },
     "execution_count": 34,
     "metadata": {},
     "output_type": "execute_result"
    }
   ],
   "source": [
    "type(c)"
   ]
  },
  {
   "cell_type": "code",
   "execution_count": 35,
   "id": "fbaff50d",
   "metadata": {},
   "outputs": [
    {
     "data": {
      "text/plain": [
       "int"
      ]
     },
     "execution_count": 35,
     "metadata": {},
     "output_type": "execute_result"
    }
   ],
   "source": [
    "type(a)"
   ]
  },
  {
   "cell_type": "code",
   "execution_count": 36,
   "id": "e23eb810",
   "metadata": {},
   "outputs": [
    {
     "data": {
      "text/plain": [
       "int"
      ]
     },
     "execution_count": 36,
     "metadata": {},
     "output_type": "execute_result"
    }
   ],
   "source": [
    "type(b)"
   ]
  },
  {
   "cell_type": "code",
   "execution_count": 37,
   "id": "f5bf3865",
   "metadata": {},
   "outputs": [
    {
     "data": {
      "text/plain": [
       "float"
      ]
     },
     "execution_count": 37,
     "metadata": {},
     "output_type": "execute_result"
    }
   ],
   "source": [
    "type(d)"
   ]
  },
  {
   "cell_type": "code",
   "execution_count": 38,
   "id": "42bb10dc",
   "metadata": {},
   "outputs": [],
   "source": [
    "c = 5"
   ]
  },
  {
   "cell_type": "code",
   "execution_count": 39,
   "id": "a853cc99",
   "metadata": {},
   "outputs": [
    {
     "data": {
      "text/plain": [
       "int"
      ]
     },
     "execution_count": 39,
     "metadata": {},
     "output_type": "execute_result"
    }
   ],
   "source": [
    "type(c)"
   ]
  },
  {
   "cell_type": "code",
   "execution_count": 40,
   "id": "0e1fb0f7",
   "metadata": {},
   "outputs": [],
   "source": [
    "c = \"Ad\""
   ]
  },
  {
   "cell_type": "code",
   "execution_count": 41,
   "id": "4a0973e7",
   "metadata": {},
   "outputs": [
    {
     "data": {
      "text/plain": [
       "str"
      ]
     },
     "execution_count": 41,
     "metadata": {},
     "output_type": "execute_result"
    }
   ],
   "source": [
    "type(c)"
   ]
  },
  {
   "cell_type": "code",
   "execution_count": 42,
   "id": "2b5d508f",
   "metadata": {},
   "outputs": [
    {
     "data": {
      "text/plain": [
       "100"
      ]
     },
     "execution_count": 42,
     "metadata": {},
     "output_type": "execute_result"
    }
   ],
   "source": [
    "age * 2"
   ]
  },
  {
   "cell_type": "code",
   "execution_count": 43,
   "id": "9722f712",
   "metadata": {},
   "outputs": [],
   "source": [
    "adLabel = \"Ad\""
   ]
  },
  {
   "cell_type": "code",
   "execution_count": 44,
   "id": "f1b3340b",
   "metadata": {},
   "outputs": [
    {
     "data": {
      "text/plain": [
       "str"
      ]
     },
     "execution_count": 44,
     "metadata": {},
     "output_type": "execute_result"
    }
   ],
   "source": [
    "type(adLabel)"
   ]
  },
  {
   "cell_type": "code",
   "execution_count": 45,
   "id": "16118233",
   "metadata": {},
   "outputs": [
    {
     "data": {
      "text/plain": [
       "1024"
      ]
     },
     "execution_count": 45,
     "metadata": {},
     "output_type": "execute_result"
    }
   ],
   "source": [
    "2 ** 10 #üs"
   ]
  },
  {
   "cell_type": "code",
   "execution_count": 46,
   "id": "789d7138",
   "metadata": {},
   "outputs": [
    {
     "data": {
      "text/plain": [
       "4"
      ]
     },
     "execution_count": 46,
     "metadata": {},
     "output_type": "execute_result"
    }
   ],
   "source": [
    "189 % 5 #remainder"
   ]
  },
  {
   "cell_type": "code",
   "execution_count": null,
   "id": "6315b6a8",
   "metadata": {},
   "outputs": [],
   "source": []
  }
 ],
 "metadata": {
  "kernelspec": {
   "display_name": "Python 3 (ipykernel)",
   "language": "python",
   "name": "python3"
  },
  "language_info": {
   "codemirror_mode": {
    "name": "ipython",
    "version": 3
   },
   "file_extension": ".py",
   "mimetype": "text/x-python",
   "name": "python",
   "nbconvert_exporter": "python",
   "pygments_lexer": "ipython3",
   "version": "3.11.5"
  }
 },
 "nbformat": 4,
 "nbformat_minor": 5
}
