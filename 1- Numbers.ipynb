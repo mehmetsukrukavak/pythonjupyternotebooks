{
 "cells": [
  {
   "cell_type": "code",
   "execution_count": 1,
   "id": "da9d5ffe",
   "metadata": {},
   "outputs": [],
   "source": [
    "age= 50"
   ]
  },
  {
   "cell_type": "code",
   "execution_count": 3,
   "id": "b92d7c2a",
   "metadata": {},
   "outputs": [
    {
     "data": {
      "text/plain": [
       "int"
      ]
     },
     "execution_count": 3,
     "metadata": {},
     "output_type": "execute_result"
    }
   ],
   "source": [
    "type(age)"
   ]
  },
  {
   "cell_type": "code",
   "execution_count": 4,
   "id": "65b5802e",
   "metadata": {},
   "outputs": [
    {
     "data": {
      "text/plain": [
       "float"
      ]
     },
     "execution_count": 4,
     "metadata": {},
     "output_type": "execute_result"
    }
   ],
   "source": [
    "type(50/7)"
   ]
  },
  {
   "cell_type": "code",
   "execution_count": 5,
   "id": "55c5991a",
   "metadata": {},
   "outputs": [
    {
     "data": {
      "text/plain": [
       "float"
      ]
     },
     "execution_count": 5,
     "metadata": {},
     "output_type": "execute_result"
    }
   ],
   "source": [
    "type(50/5)"
   ]
  },
  {
   "cell_type": "code",
   "execution_count": 6,
   "id": "aa4a37df",
   "metadata": {},
   "outputs": [
    {
     "data": {
      "text/plain": [
       "2500"
      ]
     },
     "execution_count": 6,
     "metadata": {},
     "output_type": "execute_result"
    }
   ],
   "source": [
    "age ** 2"
   ]
  },
  {
   "cell_type": "code",
   "execution_count": 7,
   "id": "9c5d5445",
   "metadata": {},
   "outputs": [
    {
     "data": {
      "text/plain": [
       "2"
      ]
     },
     "execution_count": 7,
     "metadata": {},
     "output_type": "execute_result"
    }
   ],
   "source": [
    "age % 8"
   ]
  },
  {
   "cell_type": "code",
   "execution_count": 8,
   "id": "af9e42de",
   "metadata": {},
   "outputs": [],
   "source": [
    "pi = 3.14"
   ]
  },
  {
   "cell_type": "code",
   "execution_count": 9,
   "id": "a26b8c4d",
   "metadata": {},
   "outputs": [],
   "source": [
    "r = 5"
   ]
  },
  {
   "cell_type": "code",
   "execution_count": 12,
   "id": "ba544fb9",
   "metadata": {},
   "outputs": [],
   "source": [
    "area = pi * r ** 2"
   ]
  },
  {
   "cell_type": "code",
   "execution_count": 13,
   "id": "ca5a58d2",
   "metadata": {},
   "outputs": [
    {
     "data": {
      "text/plain": [
       "78.5"
      ]
     },
     "execution_count": 13,
     "metadata": {},
     "output_type": "execute_result"
    }
   ],
   "source": [
    "area"
   ]
  },
  {
   "cell_type": "code",
   "execution_count": 14,
   "id": "403b4b2d",
   "metadata": {},
   "outputs": [],
   "source": [
    "perimeter = 2 * pi * r"
   ]
  },
  {
   "cell_type": "code",
   "execution_count": 15,
   "id": "aaef1adc",
   "metadata": {},
   "outputs": [
    {
     "data": {
      "text/plain": [
       "31.400000000000002"
      ]
     },
     "execution_count": 15,
     "metadata": {},
     "output_type": "execute_result"
    }
   ],
   "source": [
    "perimeter"
   ]
  },
  {
   "cell_type": "code",
   "execution_count": null,
   "id": "7a860f21",
   "metadata": {},
   "outputs": [],
   "source": []
  }
 ],
 "metadata": {
  "kernelspec": {
   "display_name": "Python 3 (ipykernel)",
   "language": "python",
   "name": "python3"
  },
  "language_info": {
   "codemirror_mode": {
    "name": "ipython",
    "version": 3
   },
   "file_extension": ".py",
   "mimetype": "text/x-python",
   "name": "python",
   "nbconvert_exporter": "python",
   "pygments_lexer": "ipython3",
   "version": "3.11.5"
  }
 },
 "nbformat": 4,
 "nbformat_minor": 5
}
