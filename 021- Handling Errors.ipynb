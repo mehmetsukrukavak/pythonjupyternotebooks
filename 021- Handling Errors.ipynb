{
 "cells": [
  {
   "cell_type": "code",
   "execution_count": 3,
   "id": "2a47400c",
   "metadata": {},
   "outputs": [
    {
     "name": "stdout",
     "output_type": "stream",
     "text": [
      "Enter Age : 35\n"
     ]
    }
   ],
   "source": [
    "age = input(\"Enter Age : \")"
   ]
  },
  {
   "cell_type": "code",
   "execution_count": 4,
   "id": "1cd11add",
   "metadata": {},
   "outputs": [
    {
     "data": {
      "text/plain": [
       "70"
      ]
     },
     "execution_count": 4,
     "metadata": {},
     "output_type": "execute_result"
    }
   ],
   "source": [
    "int(age) * 2"
   ]
  },
  {
   "cell_type": "code",
   "execution_count": 5,
   "id": "9aac992e",
   "metadata": {},
   "outputs": [],
   "source": [
    "#try- except"
   ]
  },
  {
   "cell_type": "code",
   "execution_count": 14,
   "id": "81c32702",
   "metadata": {},
   "outputs": [
    {
     "name": "stdout",
     "output_type": "stream",
     "text": [
      "Enter Age : 80\n",
      "160\n",
      "Else executed\n",
      "finally executed\n"
     ]
    }
   ],
   "source": [
    "while True:\n",
    "    try:\n",
    "        age = int(input(\"Enter Age : \"))\n",
    "        print(age*2)\n",
    "        \n",
    "    except:\n",
    "\n",
    "        print(\"Enter your age!!\")\n",
    "    else:\n",
    "        print(\"Else executed\")\n",
    "        break\n",
    "    finally:\n",
    "        print(\"finally executed\")"
   ]
  },
  {
   "cell_type": "code",
   "execution_count": null,
   "id": "87799b59",
   "metadata": {},
   "outputs": [],
   "source": []
  }
 ],
 "metadata": {
  "kernelspec": {
   "display_name": "Python 3 (ipykernel)",
   "language": "python",
   "name": "python3"
  },
  "language_info": {
   "codemirror_mode": {
    "name": "ipython",
    "version": 3
   },
   "file_extension": ".py",
   "mimetype": "text/x-python",
   "name": "python",
   "nbconvert_exporter": "python",
   "pygments_lexer": "ipython3",
   "version": "3.11.5"
  }
 },
 "nbformat": 4,
 "nbformat_minor": 5
}
