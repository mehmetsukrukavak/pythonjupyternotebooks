{
 "cells": [
  {
   "cell_type": "code",
   "execution_count": 1,
   "id": "4732f59e",
   "metadata": {},
   "outputs": [
    {
     "name": "stdout",
     "output_type": "stream",
     "text": [
      "What's your age? : 45\n"
     ]
    }
   ],
   "source": [
    "age = int(input(\"What's your age? : \"))"
   ]
  },
  {
   "cell_type": "code",
   "execution_count": 6,
   "id": "28e66cea",
   "metadata": {},
   "outputs": [
    {
     "name": "stdout",
     "output_type": "stream",
     "text": [
      "You're not young!\n"
     ]
    }
   ],
   "source": [
    "if age<30: print(\"You're young!\")\n",
    "elif age >=30 and age<=40 : print(\"Middle age!\")\n",
    "else: print(\"You're not young!\")"
   ]
  },
  {
   "cell_type": "code",
   "execution_count": 7,
   "id": "2aa677d4",
   "metadata": {},
   "outputs": [],
   "source": [
    "my_list = [30,40,50]"
   ]
  },
  {
   "cell_type": "code",
   "execution_count": 10,
   "id": "4cacc496",
   "metadata": {},
   "outputs": [
    {
     "name": "stdout",
     "output_type": "stream",
     "text": [
      ":()\n"
     ]
    }
   ],
   "source": [
    "if 10 in my_list: print(\":)\")\n",
    "else: print(\":(\")"
   ]
  },
  {
   "cell_type": "code",
   "execution_count": null,
   "id": "a7da1572",
   "metadata": {},
   "outputs": [],
   "source": []
  }
 ],
 "metadata": {
  "kernelspec": {
   "display_name": "Python 3 (ipykernel)",
   "language": "python",
   "name": "python3"
  },
  "language_info": {
   "codemirror_mode": {
    "name": "ipython",
    "version": 3
   },
   "file_extension": ".py",
   "mimetype": "text/x-python",
   "name": "python",
   "nbconvert_exporter": "python",
   "pygments_lexer": "ipython3",
   "version": "3.11.5"
  }
 },
 "nbformat": 4,
 "nbformat_minor": 5
}
