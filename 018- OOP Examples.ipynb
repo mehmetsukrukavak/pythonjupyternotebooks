{
 "cells": [
  {
   "cell_type": "markdown",
   "id": "68065bff",
   "metadata": {},
   "source": [
    "# inheritance"
   ]
  },
  {
   "cell_type": "code",
   "execution_count": 6,
   "id": "69954c13",
   "metadata": {},
   "outputs": [],
   "source": [
    "class Musician():\n",
    "    def __init__(self,name):\n",
    "        self.name = name\n",
    "        print(\"musician init\")\n",
    "        \n",
    "    def test1(self):\n",
    "        print(\"test1\")\n",
    "        \n",
    "    def test2(self):\n",
    "        print(\"test2\")"
   ]
  },
  {
   "cell_type": "code",
   "execution_count": 7,
   "id": "1614a295",
   "metadata": {},
   "outputs": [
    {
     "name": "stdout",
     "output_type": "stream",
     "text": [
      "musician init\n"
     ]
    }
   ],
   "source": [
    "M1 = Musician(\"Mehmet\")"
   ]
  },
  {
   "cell_type": "code",
   "execution_count": 8,
   "id": "38732929",
   "metadata": {},
   "outputs": [
    {
     "name": "stdout",
     "output_type": "stream",
     "text": [
      "test1\n"
     ]
    }
   ],
   "source": [
    "M1.test1()"
   ]
  },
  {
   "cell_type": "code",
   "execution_count": 9,
   "id": "3d8392a7",
   "metadata": {},
   "outputs": [
    {
     "name": "stdout",
     "output_type": "stream",
     "text": [
      "test2\n"
     ]
    }
   ],
   "source": [
    "M1.test2()"
   ]
  },
  {
   "cell_type": "code",
   "execution_count": 24,
   "id": "13c7ddde",
   "metadata": {},
   "outputs": [],
   "source": [
    "class MusicianPlus(Musician):\n",
    "    def __init__(self,name):\n",
    "        Musician.__init__(self,name)\n",
    "        print(\"musician plus init\")\n",
    "        \n",
    "    def test3(self):\n",
    "        print(\"test3\")\n",
    "        \n",
    "    def test1(self):\n",
    "        print(\"test1 test1\")"
   ]
  },
  {
   "cell_type": "code",
   "execution_count": 25,
   "id": "853fd297",
   "metadata": {},
   "outputs": [
    {
     "name": "stdout",
     "output_type": "stream",
     "text": [
      "musician init\n",
      "musician plus init\n"
     ]
    }
   ],
   "source": [
    "M2 = MusicianPlus(\"Kavak\")"
   ]
  },
  {
   "cell_type": "code",
   "execution_count": 23,
   "id": "f843704f",
   "metadata": {},
   "outputs": [
    {
     "name": "stdout",
     "output_type": "stream",
     "text": [
      "test3\n"
     ]
    }
   ],
   "source": [
    "M2.test3()"
   ]
  },
  {
   "cell_type": "code",
   "execution_count": 26,
   "id": "0bf99893",
   "metadata": {},
   "outputs": [
    {
     "name": "stdout",
     "output_type": "stream",
     "text": [
      "test1 test1\n"
     ]
    }
   ],
   "source": [
    "M2.test1()"
   ]
  },
  {
   "cell_type": "code",
   "execution_count": 27,
   "id": "15375d1f",
   "metadata": {},
   "outputs": [
    {
     "name": "stdout",
     "output_type": "stream",
     "text": [
      "test1\n"
     ]
    }
   ],
   "source": [
    "M1.test1()"
   ]
  },
  {
   "cell_type": "markdown",
   "id": "bfcf6e54",
   "metadata": {},
   "source": [
    "# polymorphism"
   ]
  },
  {
   "cell_type": "code",
   "execution_count": 73,
   "id": "3930593f",
   "metadata": {},
   "outputs": [],
   "source": [
    "class Banana():\n",
    "    \n",
    "    def __init__(self,name):\n",
    "        #print(\"Banana\")\n",
    "        self.name=name\n",
    "        \n",
    "    def getCalorie(self):\n",
    "        return f\"100 Calories {self.name}\"\n",
    "        \n",
    "\n",
    "class Apple():\n",
    "    \n",
    "    def __init__(self,name):\n",
    "        #print(\"Apple\")\n",
    "        self.name=name\n",
    "        \n",
    "    def getCalorie(self):\n",
    "        return f\"150 Calories {self.name}\""
   ]
  },
  {
   "cell_type": "code",
   "execution_count": 74,
   "id": "987f4195",
   "metadata": {},
   "outputs": [],
   "source": [
    "banana = Banana(\"Muz\")"
   ]
  },
  {
   "cell_type": "code",
   "execution_count": 75,
   "id": "9a4b9ccc",
   "metadata": {},
   "outputs": [
    {
     "data": {
      "text/plain": [
       "'100 Calories Muz'"
      ]
     },
     "execution_count": 75,
     "metadata": {},
     "output_type": "execute_result"
    }
   ],
   "source": [
    "banana.getCalorie()"
   ]
  },
  {
   "cell_type": "code",
   "execution_count": 76,
   "id": "7658fc90",
   "metadata": {},
   "outputs": [],
   "source": [
    "apple = Apple(\"Elma\")"
   ]
  },
  {
   "cell_type": "code",
   "execution_count": 77,
   "id": "216f3182",
   "metadata": {},
   "outputs": [
    {
     "data": {
      "text/plain": [
       "'150 Calories Elma'"
      ]
     },
     "execution_count": 77,
     "metadata": {},
     "output_type": "execute_result"
    }
   ],
   "source": [
    "apple.getCalorie()\n"
   ]
  },
  {
   "cell_type": "code",
   "execution_count": 78,
   "id": "2818b651",
   "metadata": {},
   "outputs": [],
   "source": [
    "fruitList = [banana, apple]"
   ]
  },
  {
   "cell_type": "code",
   "execution_count": 79,
   "id": "90c05420",
   "metadata": {},
   "outputs": [
    {
     "name": "stdout",
     "output_type": "stream",
     "text": [
      "100 Calories Muz\n",
      "150 Calories Elma\n"
     ]
    }
   ],
   "source": [
    "for fruit in fruitList:\n",
    "    print(fruit.getCalorie())"
   ]
  },
  {
   "cell_type": "markdown",
   "id": "5b09936b",
   "metadata": {},
   "source": [
    "# encapsulation"
   ]
  },
  {
   "cell_type": "code",
   "execution_count": 83,
   "id": "d9efe55c",
   "metadata": {},
   "outputs": [],
   "source": [
    "class Phone():\n",
    "    \n",
    "    def __init__(self,name,price):\n",
    "        self.name = name\n",
    "        self.__price = price\n",
    "    \n",
    "    def info(self):\n",
    "        print(f\"{self.name}, {self.__price} TL.\")\n",
    "        \n",
    "    def changePrice(self,price):\n",
    "        self.__price = price\n",
    "        "
   ]
  },
  {
   "cell_type": "code",
   "execution_count": 84,
   "id": "e04cee85",
   "metadata": {},
   "outputs": [],
   "source": [
    "iphone = Phone(\"iPhone 14\",500)"
   ]
  },
  {
   "cell_type": "code",
   "execution_count": 85,
   "id": "454d79ca",
   "metadata": {},
   "outputs": [
    {
     "name": "stdout",
     "output_type": "stream",
     "text": [
      "iPhone 14, 500 TL.\n"
     ]
    }
   ],
   "source": [
    "iphone.info()"
   ]
  },
  {
   "cell_type": "code",
   "execution_count": 86,
   "id": "741049c4",
   "metadata": {},
   "outputs": [],
   "source": [
    "iphone.changePrice(100)"
   ]
  },
  {
   "cell_type": "code",
   "execution_count": 87,
   "id": "eab65422",
   "metadata": {},
   "outputs": [
    {
     "name": "stdout",
     "output_type": "stream",
     "text": [
      "iPhone 14, 100 TL.\n"
     ]
    }
   ],
   "source": [
    "iphone.info()"
   ]
  },
  {
   "cell_type": "markdown",
   "id": "91c9728e",
   "metadata": {},
   "source": [
    "# abstraction"
   ]
  },
  {
   "cell_type": "code",
   "execution_count": 88,
   "id": "2c34afce",
   "metadata": {},
   "outputs": [],
   "source": [
    "from abc import ABC, abstractmethod"
   ]
  },
  {
   "cell_type": "code",
   "execution_count": 89,
   "id": "2d91bf48",
   "metadata": {},
   "outputs": [],
   "source": [
    "class Car(ABC):\n",
    "    \n",
    "    def maxSpeed(self):\n",
    "        pass"
   ]
  },
  {
   "cell_type": "code",
   "execution_count": 90,
   "id": "82005099",
   "metadata": {},
   "outputs": [],
   "source": [
    "class Tesla(Car):\n",
    "    \n",
    "    def maxSpeed(self):\n",
    "        print(\"200 km\")"
   ]
  },
  {
   "cell_type": "code",
   "execution_count": 91,
   "id": "f8f0cd0d",
   "metadata": {},
   "outputs": [],
   "source": [
    "t = Tesla()"
   ]
  },
  {
   "cell_type": "code",
   "execution_count": 92,
   "id": "73d1dcd5",
   "metadata": {},
   "outputs": [
    {
     "name": "stdout",
     "output_type": "stream",
     "text": [
      "200 km\n"
     ]
    }
   ],
   "source": [
    "t.maxSpeed()"
   ]
  },
  {
   "cell_type": "code",
   "execution_count": 113,
   "id": "4be98b64",
   "metadata": {},
   "outputs": [],
   "source": [
    "class PhoneStr():\n",
    "    \n",
    "    def __init__(self,name,price):\n",
    "        self.name = name\n",
    "        self.__price = price\n",
    "    \n",
    "    def __str__(self):\n",
    "        return f\"{self.name}, {self.__price} TL.\"\n",
    "        \n",
    "    def __len__(self):\n",
    "        return self.__price"
   ]
  },
  {
   "cell_type": "code",
   "execution_count": 114,
   "id": "546caad5",
   "metadata": {},
   "outputs": [],
   "source": [
    "nokia = PhoneStr(\"Nokia\",100)"
   ]
  },
  {
   "cell_type": "code",
   "execution_count": 115,
   "id": "eb87aa25",
   "metadata": {},
   "outputs": [
    {
     "name": "stdout",
     "output_type": "stream",
     "text": [
      "Nokia, 100 TL.\n"
     ]
    }
   ],
   "source": [
    "print(nokia)"
   ]
  },
  {
   "cell_type": "code",
   "execution_count": 116,
   "id": "15df95ad",
   "metadata": {},
   "outputs": [
    {
     "name": "stdout",
     "output_type": "stream",
     "text": [
      "100\n"
     ]
    }
   ],
   "source": [
    "print(len(nokia))"
   ]
  },
  {
   "cell_type": "code",
   "execution_count": null,
   "id": "dc808192",
   "metadata": {},
   "outputs": [],
   "source": []
  }
 ],
 "metadata": {
  "kernelspec": {
   "display_name": "Python 3 (ipykernel)",
   "language": "python",
   "name": "python3"
  },
  "language_info": {
   "codemirror_mode": {
    "name": "ipython",
    "version": 3
   },
   "file_extension": ".py",
   "mimetype": "text/x-python",
   "name": "python",
   "nbconvert_exporter": "python",
   "pygments_lexer": "ipython3",
   "version": "3.11.5"
  }
 },
 "nbformat": 4,
 "nbformat_minor": 5
}
