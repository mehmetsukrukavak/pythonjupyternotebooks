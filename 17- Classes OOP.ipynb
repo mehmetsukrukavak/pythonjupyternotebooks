{
 "cells": [
  {
   "cell_type": "code",
   "execution_count": 15,
   "id": "222c5d1a",
   "metadata": {},
   "outputs": [],
   "source": [
    "class Person():\n",
    "    #property\n",
    "    #name = \"\"\n",
    "    #age = 0\n",
    "    #gender = \"\"\n",
    "    job = \"Developer\"\n",
    "    #initializer\n",
    "    def __init__(self,name,age,gender):\n",
    "        self.name = name\n",
    "        self.age = age\n",
    "        self.gender = gender\n",
    "        "
   ]
  },
  {
   "cell_type": "code",
   "execution_count": 16,
   "id": "679f5035",
   "metadata": {},
   "outputs": [],
   "source": [
    "mehmet = Person(\"Mehmet\",45,\"M\")"
   ]
  },
  {
   "cell_type": "code",
   "execution_count": 17,
   "id": "bcebcf7d",
   "metadata": {},
   "outputs": [],
   "source": [
    "mehmet.age = 46"
   ]
  },
  {
   "cell_type": "code",
   "execution_count": 18,
   "id": "4877e168",
   "metadata": {},
   "outputs": [
    {
     "data": {
      "text/plain": [
       "'Mehmet'"
      ]
     },
     "execution_count": 18,
     "metadata": {},
     "output_type": "execute_result"
    }
   ],
   "source": [
    "mehmet.name\n"
   ]
  },
  {
   "cell_type": "code",
   "execution_count": 19,
   "id": "14b1962d",
   "metadata": {},
   "outputs": [],
   "source": [
    "mehmet.job = \"Architect\""
   ]
  },
  {
   "cell_type": "code",
   "execution_count": 20,
   "id": "e2e4438e",
   "metadata": {},
   "outputs": [
    {
     "data": {
      "text/plain": [
       "'Architect'"
      ]
     },
     "execution_count": 20,
     "metadata": {},
     "output_type": "execute_result"
    }
   ],
   "source": [
    "mehmet.job"
   ]
  },
  {
   "cell_type": "code",
   "execution_count": 33,
   "id": "a0ea11d5",
   "metadata": {},
   "outputs": [],
   "source": [
    "class Dog():\n",
    "    year = 7\n",
    "    def __init__(self,age=5):\n",
    "        self.age = age\n",
    "        self.dogHumanAge = age * self.year\n",
    "        print(\"Dog instance\")\n",
    "    \n",
    "    def humanAge(self):\n",
    "        return self.age * Dog.year"
   ]
  },
  {
   "cell_type": "code",
   "execution_count": 34,
   "id": "6e505dcf",
   "metadata": {},
   "outputs": [
    {
     "name": "stdout",
     "output_type": "stream",
     "text": [
      "Dog instance\n"
     ]
    }
   ],
   "source": [
    "dog = Dog(3)"
   ]
  },
  {
   "cell_type": "code",
   "execution_count": 35,
   "id": "38426d4e",
   "metadata": {},
   "outputs": [
    {
     "data": {
      "text/plain": [
       "21"
      ]
     },
     "execution_count": 35,
     "metadata": {},
     "output_type": "execute_result"
    }
   ],
   "source": [
    "dog.dogHumanAge"
   ]
  },
  {
   "cell_type": "code",
   "execution_count": 36,
   "id": "db2bdaa0",
   "metadata": {},
   "outputs": [
    {
     "data": {
      "text/plain": [
       "21"
      ]
     },
     "execution_count": 36,
     "metadata": {},
     "output_type": "execute_result"
    }
   ],
   "source": [
    "dog.humanAge()"
   ]
  },
  {
   "cell_type": "code",
   "execution_count": 37,
   "id": "9e1af2ca",
   "metadata": {},
   "outputs": [
    {
     "name": "stdout",
     "output_type": "stream",
     "text": [
      "Dog instance\n"
     ]
    }
   ],
   "source": [
    "barley = Dog()"
   ]
  },
  {
   "cell_type": "code",
   "execution_count": 38,
   "id": "1f074992",
   "metadata": {},
   "outputs": [
    {
     "data": {
      "text/plain": [
       "35"
      ]
     },
     "execution_count": 38,
     "metadata": {},
     "output_type": "execute_result"
    }
   ],
   "source": [
    "barley.humanAge()"
   ]
  },
  {
   "cell_type": "code",
   "execution_count": null,
   "id": "24f732c9",
   "metadata": {},
   "outputs": [],
   "source": []
  }
 ],
 "metadata": {
  "kernelspec": {
   "display_name": "Python 3 (ipykernel)",
   "language": "python",
   "name": "python3"
  },
  "language_info": {
   "codemirror_mode": {
    "name": "ipython",
    "version": 3
   },
   "file_extension": ".py",
   "mimetype": "text/x-python",
   "name": "python",
   "nbconvert_exporter": "python",
   "pygments_lexer": "ipython3",
   "version": "3.11.5"
  }
 },
 "nbformat": 4,
 "nbformat_minor": 5
}
